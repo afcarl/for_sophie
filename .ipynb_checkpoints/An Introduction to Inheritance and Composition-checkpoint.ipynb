{
 "cells": [
  {
   "cell_type": "markdown",
   "metadata": {},
   "source": [
    "## The class a primer\n",
    "\n",
    "Classes can be a powerful tool for writing code.  In large and complex software projects they allow for a greater level of organizational expression not found in other abstractions or paradigms.  So power, can be the idea of code abstraction via classes, that it has formed an entire philosophy of programming, known as object oriented programming.\n",
    "\n",
    "_Definition_ **Object** := in object oriented programming an object is an instantiation of a class that contains a collection of functions, known as methods, and a collection of variables, known sometimes as attributes.\n",
    "\n",
    "## Our First Example"
   ]
  },
  {
   "cell_type": "code",
   "execution_count": 1,
   "metadata": {
    "collapsed": false
   },
   "outputs": [
    {
     "name": "stdout",
     "output_type": "stream",
     "text": [
      "3\n"
     ]
    }
   ],
   "source": [
    "class A:\n",
    "    def __init__(self, first_number, second_number):\n",
    "        self.first_number = first_number\n",
    "        self.second_number = second_number\n",
    "    def add(self):\n",
    "        return self.first_number + self.second_number\n",
    "    \n",
    "a = A(1,2)\n",
    "print(a.add())"
   ]
  },
  {
   "cell_type": "markdown",
   "metadata": {},
   "source": [
    "## Things to notice\n",
    "\n",
    "The first thing to notice is that we passed numbers to our constructor and then called the method `add`.  This is obviously a worked example, merely to show the syntax of a class.  This is clearly far more superflous when compared with the ease of simply doing:\n",
    "\n",
    "`1 + 2`\n",
    "\n",
    "(Which most modern programming languages support.\n",
    "\n",
    "Second, notice the use of `__` before and after `init`, this is known as a double underscore, sometimes refered to as a dunder method.  Dunder methods are a special type of method and there are many of them!  These methods in general are specific to the python \"data model\", which we won't discuss in detail here.  But worthy of some investigation :D\n",
    "\n",
    "## A better example\n",
    "\n",
    "Below we will show a better example of when to use a class, even for a simple example.  So far we've dealt with typical algebras, however, say we wanted to work over a different algebra, that treated addition very differently than the common one.  Well, then classes are just right for that job!  And create a higher level of elegance than calling functions."
   ]
  },
  {
   "cell_type": "code",
   "execution_count": 2,
   "metadata": {
    "collapsed": false
   },
   "outputs": [
    {
     "name": "stdout",
     "output_type": "stream",
     "text": [
      "2.0\n"
     ]
    }
   ],
   "source": [
    "import math\n",
    "\n",
    "class WeirdAlgebra:\n",
    "    def __init__(self, datum):\n",
    "        self.datum = datum % 7\n",
    "    def add(self, other_elem):\n",
    "        return (math.pow(self.datum + other_elem.datum, 2) % 7)\n",
    "    \n",
    "weird_num_one = WeirdAlgebra(4)\n",
    "weird_num_two = WeirdAlgebra(6)\n",
    "print(weird_num_one.add(weird_num_two))"
   ]
  },
  {
   "cell_type": "markdown",
   "metadata": {},
   "source": [
    "Now let's compare this against the function version of our code."
   ]
  },
  {
   "cell_type": "code",
   "execution_count": 5,
   "metadata": {
    "collapsed": false
   },
   "outputs": [
    {
     "data": {
      "text/plain": [
       "2.0"
      ]
     },
     "execution_count": 5,
     "metadata": {},
     "output_type": "execute_result"
    }
   ],
   "source": [
    "import math\n",
    "\n",
    "def modulate(number):\n",
    "    return number % 7\n",
    "\n",
    "def weird_add(first_num, second_num):\n",
    "    first_num = modulate(first_num)\n",
    "    second_num = modulate(second_num)\n",
    "    return (math.pow(first_num + second_num, 2) % 7)\n",
    "\n",
    "weird_add(4, 6)"
   ]
  },
  {
   "cell_type": "markdown",
   "metadata": {},
   "source": [
    "Notice that this isn't `** that much **` work right now, but as the number of operations supported increases, this second solution will get more and more unweildy.  However, if you pass numbers in to a constructor, you have a guarantee that they will be in `N/N7` - the natural numbers mod 7.  \n",
    "\n",
    "This is a big deal!  Hopefully, I've convinced you of the power of classes as an organizational method, in specific, but not all circumstances!"
   ]
  },
  {
   "cell_type": "markdown",
   "metadata": {},
   "source": [
    "## The Power of Objects\n",
    "\n",
    "The real power of objects is that it gives you a greater flexibility in organizational structure and allows you define a set of vocabulary around your code base, specific to your project.  When used well, this leads to cleaner, more maintainable code.  A word of caution here though, often object oriented programming is done wrong.  This can lead to extremely hard to reason about code.  And lots and lots of unnecessary things, ultimately making your code base way harder to maintain.  That's why languages like Java have begun to lose popularity, they take object orientation too far.  \n",
    "\n",
    "When used correctly, classes allow your code to do something magical - to be reused by other people, in cases you may not have intended.  That is after all, the power of so many modern languages, like Python (for instance).  It's not the language features that distinguish it from things like Java.  It's that there are libraries and packages for doing anything you might like!\n",
    "\n",
    "It is through code reuse, that programming is powerful.  With code reuse, we can collaborate with people we've never met.  And champion ideas that are accessible to a very broad range of users.  And who knows what folks might make with your code, that gets reused?  Perhaps the cure to the next major disease.  Perhaps code that powers the next energy revoltion.  Or perhaps the next wave of disaster recovery technology.  With code reuse, the possibilities and capacity to do good, can, and hopefully do increase.\n",
    "\n",
    "Let's look at two core concepts to code reuse - composition and inheritance."
   ]
  },
  {
   "cell_type": "markdown",
   "metadata": {},
   "source": [
    "## Moving onto composition\n",
    "\n",
    "Composition is the idea of composition a class inside of another class.  This way, you can write a class and call the methods of it, in another class, in this way, you get to code reuse!  Which is pretty great.\n",
    "\n"
   ]
  },
  {
   "cell_type": "code",
   "execution_count": 6,
   "metadata": {
    "collapsed": false
   },
   "outputs": [
    {
     "data": {
      "text/plain": [
       "3"
      ]
     },
     "execution_count": 6,
     "metadata": {},
     "output_type": "execute_result"
    }
   ],
   "source": [
    "class A:\n",
    "    def __init__(self):\n",
    "        pass\n",
    "    \n",
    "    def add(self, first, second):\n",
    "        return first + second\n",
    "    \n",
    "class B:\n",
    "    def __init__(self, first, second, third):\n",
    "        self.first = first\n",
    "        self.second = second\n",
    "        self.third = third\n",
    "        self.adder = A()\n",
    "    def add_first_two(self):\n",
    "        return self.adder.add(self.first, self.second)\n",
    "    \n",
    "b = B(1,2,3)\n",
    "b.add_first_two()"
   ]
  },
  {
   "cell_type": "markdown",
   "metadata": {},
   "source": [
    "This is again a worked example, but it points us at an important point - we can write and organize our code, such that methods that do one set of things can be grouped together and then used by other classes that might need one or many of those set of things. This allows for a good organization of ideas!  And in very large projects, you'll often need to organize a bunch of ideas together."
   ]
  },
  {
   "cell_type": "markdown",
   "metadata": {},
   "source": [
    "## Moving onto Inheritance\n",
    "\n",
    "The second form of code reuse is inheritance.  It's similar to composition, but it's a slightly different idea.  We'll look at how inheritance accomplishes code reuse below."
   ]
  },
  {
   "cell_type": "code",
   "execution_count": 7,
   "metadata": {
    "collapsed": false
   },
   "outputs": [
    {
     "data": {
      "text/plain": [
       "3"
      ]
     },
     "execution_count": 7,
     "metadata": {},
     "output_type": "execute_result"
    }
   ],
   "source": [
    "class A:\n",
    "    def __init__(self):\n",
    "        pass\n",
    "    def add(self, first, second):\n",
    "        return first + second\n",
    "    \n",
    "class B(A):\n",
    "    def __init__(self, first, second):\n",
    "        self.first = first\n",
    "        self.second = second\n",
    "        \n",
    "b = B(1,2)\n",
    "b.add(b.first, b.second)"
   ]
  },
  {
   "cell_type": "markdown",
   "metadata": {},
   "source": [
    "As you can see above, inheritance can be pretty magical.  We inherit the method `add` from class A in class B.  And we overwrote the method `__init__` from class A in class B.  This allows us to write and group our methods ideologically, which can lead to superior organizational structure.\n",
    "\n",
    "However, there is a case that is bad hiding in the winds of this - what stops us from having a deep hierarchical structure in inheritance?  Nothing.  Let's look at a second example of what you should never do."
   ]
  },
  {
   "cell_type": "code",
   "execution_count": 8,
   "metadata": {
    "collapsed": true
   },
   "outputs": [],
   "source": [
    "class A:\n",
    "    def __init__(self, first, second):\n",
    "        self.first = first\n",
    "        self.second = second\n",
    "    def add(self, first=None, second=None):\n",
    "        if not first:\n",
    "            first = self.first\n",
    "        if not second:\n",
    "            second = self.second\n",
    "        return first + second\n",
    "    \n",
    "class B(A):\n",
    "    def __init__(self):\n",
    "        pass\n",
    "    \n",
    "class C(B):\n",
    "    def __init__(self, first, second, third):\n",
    "        self.first = first # A string\n",
    "        self.second = second # A complex number\n",
    "        self.third = third\n",
    "        \n",
    "class D(C):\n",
    "    def __init__(self, first, second, third):\n",
    "        self.first = first\n",
    "        self.second = second + third\n",
    "    def multiply(self):\n",
    "        return self.first + self.second\n",
    "    \n",
    "class E(D):\n",
    "    def __init__(self):\n",
    "        pass\n"
   ]
  },
  {
   "cell_type": "markdown",
   "metadata": {},
   "source": [
    "There is a whole bunch of bad stuff going on in this class, but we are going to focus on one thing in particular.  In the above code we are chain inheriting from 5 levels.  But the meaning of the method we are original inheriting from changes from inheritance level to inheritance level.  \n",
    "\n",
    "Now in this case, by just reading the code, you should be able to tell that this is a bad idea and probably won't event run if you tried to call E's `.add` method.  However, this clearly stupid setup can creep into well meaning codebases from real developers.  For instance, consider these 5 classes were distributed across 5 seperate files.  Also consider that their names maybe be changed, so the inheritance structure isn't clear all the way up (and maybe that's a good thing).  Maybe you saw some code used elsewhere in the codebase, and with the goal of consistency, decided to model your new object off of someone elses work, that looks like it's doing something similar.\n",
    "\n",
    "But maybe there was something nuanced four or more inheritance levels up that actually means the completely reasonable thing you are doing, is crazy, given the inheritance structure.  It might take hours, even days to figure that out!  \n",
    "\n",
    "This is the major problem with inheritance - it's hard to reason about recursively defined code bases, which is exactly what inheritance can do, when do poorly.  For this reason, I am a very strong believer in shallow inheritance structures for user defined code.  Meaning, if it doesn't come from an open source library that you know and trust and is super well tested, you should never inherit more than one level deep.  To do, is asking for trouble, I don't care where you work.  I don't care if you work at the best most serious company in the world.  This is just a bad idea."
   ]
  },
  {
   "cell_type": "markdown",
   "metadata": {},
   "source": [
    "## Another subproblem of inheritance"
   ]
  },
  {
   "cell_type": "code",
   "execution_count": null,
   "metadata": {
    "collapsed": true
   },
   "outputs": [],
   "source": []
  }
 ],
 "metadata": {
  "kernelspec": {
   "display_name": "Python 3",
   "language": "python",
   "name": "python3"
  },
  "language_info": {
   "codemirror_mode": {
    "name": "ipython",
    "version": 3
   },
   "file_extension": ".py",
   "mimetype": "text/x-python",
   "name": "python",
   "nbconvert_exporter": "python",
   "pygments_lexer": "ipython3",
   "version": "3.5.2"
  }
 },
 "nbformat": 4,
 "nbformat_minor": 0
}
